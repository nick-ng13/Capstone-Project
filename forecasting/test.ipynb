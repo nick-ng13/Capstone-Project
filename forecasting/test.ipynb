{
 "cells": [
  {
   "cell_type": "code",
   "execution_count": 1,
   "id": "fad8e62d-c4f7-4c65-a096-aef545180742",
   "metadata": {},
   "outputs": [],
   "source": [
    "import numpy as np\n",
    "import pandas as pd\n",
    "import joblib\n",
    "import sklearn"
   ]
  },
  {
   "cell_type": "code",
   "execution_count": 2,
   "id": "74305a01-4be9-4b46-853b-022c2245fbc1",
   "metadata": {},
   "outputs": [],
   "source": [
    "def create_features(data): \n",
    "    def get_season(month):\n",
    "        SUMMER_MONTHS = [6, 7, 8] \n",
    "        SPRING_MONTHS = [3, 4, 5]\n",
    "        WINTER_MONTHS = [12, 1, 2]\n",
    "        FALL_MONTHS = [9, 10, 11]\n",
    "        if month in WINTER_MONTHS:\n",
    "            return \"Winter\"\n",
    "        elif month in FALL_MONTHS:\n",
    "            return \"Autumn\"\n",
    "        elif month in SUMMER_MONTHS:\n",
    "            return \"Summer\"\n",
    "        else:\n",
    "            return \"Spring\"\n",
    "    \n",
    "    def get_school_term(month):\n",
    "        SUMMER_TERM = [5, 6, 7, 8]\n",
    "        WINTER_TERM = [9, 10, 11, 12]\n",
    "        SPRING_TERM = [1, 2, 3, 4]\n",
    "\n",
    "        if month in SUMMER_TERM:\n",
    "            return \"Summer_term\"\n",
    "        elif month in WINTER_TERM:\n",
    "            return \"Winter_term\"\n",
    "        else:\n",
    "            return \"Spring_term\"\n",
    "        \n",
    "    def create_lag_df(df, lag, cols):\n",
    "        return df.assign(\n",
    "            **{f\"{col}_{n}_days_ago\": df[col].shift(n) for n in range(1, lag + 1) for col in cols}\n",
    "        )\n",
    "\n",
    "    new_df = pd.DataFrame(data)\n",
    "    new_df['year'] = pd.DatetimeIndex(new_df['Timestamp']).year\n",
    "    new_df['month'] = pd.DatetimeIndex(new_df['Timestamp']).month\n",
    "    new_df['day'] = pd.DatetimeIndex(new_df['Timestamp']).day\n",
    "    new_df['day_of_week'] = pd.DatetimeIndex(new_df['Timestamp']).day_name()\n",
    "    new_df = new_df.assign(season=new_df[\"month\"].apply(get_season))\n",
    "    new_df = new_df.assign(term=new_df[\"month\"].apply(get_school_term))\n",
    "    new_df = create_lag_df(new_df, 7, ['total_count'])\n",
    "    \n",
    "    return new_df"
   ]
  },
  {
   "cell_type": "code",
   "execution_count": 3,
   "id": "9cad7345-9b14-4a98-8810-6e5bb4fce81e",
   "metadata": {},
   "outputs": [],
   "source": [
    "new_data = [{\"Timestamp\": \"2023-02-03\", \"total_count\": 1233, \"parkade\": \"Thunderbird\"},\n",
    "           {\"Timestamp\": \"2023-02-04\", \"total_count\": 2341, \"parkade\": \"Thunderbird\"},\n",
    "           {\"Timestamp\": \"2023-02-05\", \"total_count\": 2413, \"parkade\": \"Thunderbird\"},\n",
    "           {\"Timestamp\": \"2023-02-06\", \"total_count\": 3145, \"parkade\": \"Thunderbird\"},\n",
    "           {\"Timestamp\": \"2023-02-07\", \"total_count\": 1546, \"parkade\": \"Thunderbird\"},\n",
    "           {\"Timestamp\": \"2023-02-08\", \"total_count\": 1752, \"parkade\": \"Thunderbird\"},\n",
    "           {\"Timestamp\": \"2023-02-09\", \"total_count\": 1123, \"parkade\": \"Thunderbird\"},\n",
    "           {\"Timestamp\": \"2023-02-10\", \"total_count\": 2341, \"parkade\": \"Thunderbird\"}]\n",
    "\n",
    "new_df = create_features(new_data)"
   ]
  },
  {
   "cell_type": "code",
   "execution_count": 4,
   "id": "de3a9917-66a4-418b-9754-af638ee8f9da",
   "metadata": {},
   "outputs": [],
   "source": [
    "model = joblib.load(\"saved_model/tree_model.joblib\") # load the saved model"
   ]
  },
  {
   "cell_type": "code",
   "execution_count": 5,
   "id": "14496f34-17a3-4e01-9b99-f9730bb10811",
   "metadata": {},
   "outputs": [
    {
     "data": {
      "text/plain": [
       "array([ 495.65530692,  479.05973695, 1120.922655  , 1009.70573053,\n",
       "       1324.07234449, 1188.42088359, 1122.50319497, 1009.97926391])"
      ]
     },
     "execution_count": 5,
     "metadata": {},
     "output_type": "execute_result"
    }
   ],
   "source": [
    "model.predict(new_df)"
   ]
  }
 ],
 "metadata": {
  "kernelspec": {
   "display_name": "Python [conda env:CPEN491-ML]",
   "language": "python",
   "name": "conda-env-CPEN491-ML-py"
  },
  "language_info": {
   "codemirror_mode": {
    "name": "ipython",
    "version": 3
   },
   "file_extension": ".py",
   "mimetype": "text/x-python",
   "name": "python",
   "nbconvert_exporter": "python",
   "pygments_lexer": "ipython3",
   "version": "3.10.8"
  }
 },
 "nbformat": 4,
 "nbformat_minor": 5
}
